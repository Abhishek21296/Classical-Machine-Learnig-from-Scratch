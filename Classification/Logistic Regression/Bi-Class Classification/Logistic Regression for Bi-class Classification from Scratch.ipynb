{
 "cells": [
  {
   "cell_type": "markdown",
   "metadata": {},
   "source": [
    "Logistic Regression over Breast Cancer Dataset (Bi-Class Classification)"
   ]
  },
  {
   "cell_type": "code",
   "execution_count": 1,
   "metadata": {},
   "outputs": [],
   "source": [
    "import numpy as np\n",
    "import pandas as pd\n",
    "import scipy.stats as s\n",
    "import matplotlib.pyplot as plt"
   ]
  },
  {
   "cell_type": "markdown",
   "metadata": {},
   "source": [
    "Importing the Datasets"
   ]
  },
  {
   "cell_type": "code",
   "execution_count": 2,
   "metadata": {},
   "outputs": [],
   "source": [
    "data= pd.read_csv(\"C:\\\\Users\\\\lucif\\\\Documents\\\\Jupiter_Notebook\\\\Datasets\\\\data.csv\")\n",
    "columns=data.columns"
   ]
  },
  {
   "cell_type": "markdown",
   "metadata": {},
   "source": [
    "Pre-processing the data"
   ]
  },
  {
   "cell_type": "code",
   "execution_count": 3,
   "metadata": {
    "scrolled": true
   },
   "outputs": [],
   "source": [
    "data.drop(labels=[columns[32]],axis=1,inplace=True)\n",
    "data.drop(labels=[columns[0]],axis=1,inplace=True)"
   ]
  },
  {
   "cell_type": "markdown",
   "metadata": {},
   "source": [
    "Separating Label Column"
   ]
  },
  {
   "cell_type": "code",
   "execution_count": 4,
   "metadata": {},
   "outputs": [
    {
     "name": "stderr",
     "output_type": "stream",
     "text": [
      "C:\\Users\\lucif\\Anaconda3\\envs\\TF\\lib\\site-packages\\pandas\\core\\frame.py:4278: SettingWithCopyWarning: \n",
      "A value is trying to be set on a copy of a slice from a DataFrame\n",
      "\n",
      "See the caveats in the documentation: http://pandas.pydata.org/pandas-docs/stable/user_guide/indexing.html#returning-a-view-versus-a-copy\n",
      "  method=method,\n"
     ]
    }
   ],
   "source": [
    "#separating class column\n",
    "class_label=data.iloc[:,0:1]\n",
    "class_label.replace(to_replace=['B','M'],value=(0,1),inplace=True)\n",
    "class_train=np.array(class_label.iloc[:int(0.7*data.shape[0])])\n",
    "class_test=np.array(class_label.iloc[int(0.7*data.shape[0]):])"
   ]
  },
  {
   "cell_type": "markdown",
   "metadata": {},
   "source": [
    "Splitting Training and Testing Data"
   ]
  },
  {
   "cell_type": "code",
   "execution_count": 5,
   "metadata": {},
   "outputs": [
    {
     "name": "stderr",
     "output_type": "stream",
     "text": [
      "C:\\Users\\lucif\\Anaconda3\\envs\\TF\\lib\\site-packages\\pandas\\core\\frame.py:4117: SettingWithCopyWarning: \n",
      "A value is trying to be set on a copy of a slice from a DataFrame\n",
      "\n",
      "See the caveats in the documentation: http://pandas.pydata.org/pandas-docs/stable/user_guide/indexing.html#returning-a-view-versus-a-copy\n",
      "  errors=errors,\n"
     ]
    }
   ],
   "source": [
    "training_len=int(0.7*data.shape[0])\n",
    "train_data=data.iloc[:training_len]\n",
    "testing_data=data.iloc[training_len:]\n",
    "testing_data.drop(labels=[columns[1]],axis=1,inplace=True)\n",
    "train_data.drop(labels=[columns[1]],axis=1,inplace=True)\n",
    "mn=train_data.mean()\n",
    "std=train_data.std()\n",
    "train_data=(train_data-mn)/std\n",
    "testing_data=(testing_data-mn)/std\n",
    "train_data=np.array(train_data)\n",
    "testing_data=np.array(testing_data)"
   ]
  },
  {
   "cell_type": "markdown",
   "metadata": {},
   "source": [
    "Defining the Sigmoid Function"
   ]
  },
  {
   "cell_type": "code",
   "execution_count": 6,
   "metadata": {},
   "outputs": [],
   "source": [
    "def sigmoid(theta0,theta,train_data):\n",
    "    return 1/(1+np.exp(-(np.matmul(train_data,theta)+theta0)))"
   ]
  },
  {
   "cell_type": "markdown",
   "metadata": {},
   "source": [
    "Defining Function for Negative Log Loss"
   ]
  },
  {
   "cell_type": "code",
   "execution_count": 7,
   "metadata": {},
   "outputs": [],
   "source": [
    "def Neg_loss(theta0,theta):\n",
    "    h=sigmoid(theta0,theta,train_data)\n",
    "    return -(1/training_len)*(np.matmul((class_train.T),np.log(h))+np.matmul(((1-class_train).T),np.log(1-h)))"
   ]
  },
  {
   "cell_type": "markdown",
   "metadata": {},
   "source": [
    "Initializing variables for Gradient Descent"
   ]
  },
  {
   "cell_type": "code",
   "execution_count": 8,
   "metadata": {},
   "outputs": [],
   "source": [
    "epsilon=0.0001\n",
    "alpha=0.01\n",
    "theta_init=np.random.randn(30,1)\n",
    "theta0_init=np.random.randn(1,1)\n",
    "neg_log_loss_history=[]\n",
    "i=0"
   ]
  },
  {
   "cell_type": "markdown",
   "metadata": {},
   "source": [
    "Training through Gradient Descent"
   ]
  },
  {
   "cell_type": "code",
   "execution_count": 9,
   "metadata": {},
   "outputs": [],
   "source": [
    "while True:\n",
    "    H=sigmoid(theta0_init,theta_init,train_data)\n",
    "    \n",
    "    H=H.reshape(398,1)\n",
    "    \n",
    "    theta0_final=theta0_init-(alpha*(1/training_len)*np.sum(H-class_train))\n",
    "    \n",
    "    theta_final=theta_init-(alpha*(1/training_len)*(np.matmul((H-class_train).T,train_data)).T)\n",
    "    \n",
    "    if abs(Neg_loss(theta0_init,theta_init)-Neg_loss(theta0_final,theta_final))<epsilon:\n",
    "        break\n",
    "        \n",
    "    theta0_init=theta0_final\n",
    "    \n",
    "    theta_init=theta_final\n",
    "    \n",
    "    neg_log_loss_history.append(Neg_loss(theta0_init,theta_init))\n",
    "    \n",
    "    #Uncomment Following line for Verbose on Loss and Iteration\n",
    "    #print('Iteration=',i,', Log Loss Value=',neg_log_loss_history[i])\n",
    "    \n",
    "    i+=1"
   ]
  },
  {
   "cell_type": "markdown",
   "metadata": {},
   "source": [
    "Defining Testing Function which returns True positive, False positives and accuracy over provided data"
   ]
  },
  {
   "cell_type": "code",
   "execution_count": 10,
   "metadata": {},
   "outputs": [],
   "source": [
    "def testing(testing_data,class_test,V=True):\n",
    "    \n",
    "    H_test=1/(1+np.exp(-(theta0_final+np.matmul(testing_data,theta_final))))\n",
    "    \n",
    "    bool_mask=H_test>0.5\n",
    "    \n",
    "    bool_mask=np.uint8(bool_mask)\n",
    "    \n",
    "    x=np.count_nonzero(np.equal(bool_mask,class_test))\n",
    "    \n",
    "    acc=(x*100)/class_test.shape[0]\n",
    "    \n",
    "    tn=0\n",
    "    tp=0\n",
    "    fn=0\n",
    "    fp=0\n",
    "    \n",
    "    for i in range(0,class_test.size):\n",
    "        if(class_test[i]==1 and bool_mask[i]==1):\n",
    "            tn+=1\n",
    "        elif(class_test[i]==1 and bool_mask[i]==0):\n",
    "            fp+=1\n",
    "        elif(class_test[i]==0 and bool_mask[i]==1):\n",
    "            fn+=1\n",
    "        elif(class_test[i]==0 and bool_mask[i]==0):\n",
    "            tp+=1     \n",
    "            \n",
    "    if V==True:\n",
    "        print(\"Recall=\",100*tp/(tp+fn))\n",
    "        print(\"Precision=\",100*tp/(tp+fp))\n",
    "        print(\"Accuracy=\",acc)\n",
    "        \n",
    "    tpr=tp/(tp+fn)\n",
    "    fpr=fp/(fp+tn)\n",
    "    \n",
    "    return tpr,fpr,acc"
   ]
  },
  {
   "cell_type": "markdown",
   "metadata": {},
   "source": [
    "Testing our Model on the Testing Data"
   ]
  },
  {
   "cell_type": "code",
   "execution_count": 11,
   "metadata": {},
   "outputs": [
    {
     "name": "stdout",
     "output_type": "stream",
     "text": [
      "Recall= 96.96969696969697\n",
      "Precision= 97.70992366412214\n",
      "Accuracy= 95.90643274853801\n"
     ]
    }
   ],
   "source": [
    "y,x,_=testing(testing_data,class_test)"
   ]
  },
  {
   "cell_type": "markdown",
   "metadata": {},
   "source": [
    "Preparing to plot ROC curve"
   ]
  },
  {
   "cell_type": "code",
   "execution_count": 12,
   "metadata": {},
   "outputs": [],
   "source": [
    "i=0\n",
    "ROCx=[1,0]\n",
    "ROCy=[1,0]\n",
    "\n",
    "while i<5:\n",
    "    index=np.array(np.random.choice(list(range(training_len)),100),dtype=int)\n",
    "    \n",
    "    index.sort()\n",
    "    \n",
    "    new_test=train_data[list(index)]    \n",
    "    \n",
    "    new_class=class_train[list(index)]\n",
    "    \n",
    "    y,x,_=testing(new_test,new_class,V=False)\n",
    "    \n",
    "    ROCx.append(x)\n",
    "    ROCy.append(y)\n",
    "    i+=1"
   ]
  },
  {
   "cell_type": "markdown",
   "metadata": {},
   "source": [
    "Plotting ROC Curve"
   ]
  },
  {
   "cell_type": "code",
   "execution_count": 13,
   "metadata": {},
   "outputs": [
    {
     "data": {
      "text/plain": [
       "[<matplotlib.lines.Line2D at 0x2e214cc26d8>]"
      ]
     },
     "execution_count": 13,
     "metadata": {},
     "output_type": "execute_result"
    },
    {
     "data": {
      "image/png": "[encoded data removed]",
      "text/plain": [
       "<Figure size 432x288 with 1 Axes>"
      ]
     },
     "metadata": {
      "needs_background": "light"
     },
     "output_type": "display_data"
    }
   ],
   "source": [
    "ROCx.sort()\n",
    "ROCy.sort()\n",
    "\n",
    "plt.xlim([0,1])\n",
    "plt.ylim([0,1])\n",
    "plt.xlabel('False Positive Rate')\n",
    "plt.ylabel('True Positive Rate')\n",
    "plt.plot(ROCx,ROCy)"
   ]
  }
 ],
 "metadata": {
  "kernelspec": {
   "display_name": "Python 3",
   "language": "python",
   "name": "python3"
  },
  "language_info": {
   "codemirror_mode": {
    "name": "ipython",
    "version": 3
   },
   "file_extension": ".py",
   "mimetype": "text/x-python",
   "name": "python",
   "nbconvert_exporter": "python",
   "pygments_lexer": "ipython3",
   "version": "3.6.9"
  }
 },
 "nbformat": 4,
 "nbformat_minor": 2
}

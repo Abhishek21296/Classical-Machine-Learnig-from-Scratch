{
 "cells": [
  {
   "cell_type": "code",
   "execution_count": 1,
   "metadata": {},
   "outputs": [],
   "source": [
    "import pandas as pd\n",
    "import numpy as np\n",
    "import matplotlib.pyplot as plt"
   ]
  },
  {
   "cell_type": "code",
   "execution_count": 2,
   "metadata": {},
   "outputs": [],
   "source": [
    "# read the data\n",
    "data = pd.read_csv('./Position_Salaries.csv')"
   ]
  },
  {
   "cell_type": "code",
   "execution_count": 3,
   "metadata": {},
   "outputs": [
    {
     "data": {
      "text/html": [
       "<div>\n",
       "<style scoped>\n",
       "    .dataframe tbody tr th:only-of-type {\n",
       "        vertical-align: middle;\n",
       "    }\n",
       "\n",
       "    .dataframe tbody tr th {\n",
       "        vertical-align: top;\n",
       "    }\n",
       "\n",
       "    .dataframe thead th {\n",
       "        text-align: right;\n",
       "    }\n",
       "</style>\n",
       "<table border=\"1\" class=\"dataframe\">\n",
       "  <thead>\n",
       "    <tr style=\"text-align: right;\">\n",
       "      <th></th>\n",
       "      <th>Position</th>\n",
       "      <th>Level</th>\n",
       "      <th>Salary</th>\n",
       "    </tr>\n",
       "  </thead>\n",
       "  <tbody>\n",
       "    <tr>\n",
       "      <th>0</th>\n",
       "      <td>Business Analyst</td>\n",
       "      <td>1</td>\n",
       "      <td>45000</td>\n",
       "    </tr>\n",
       "    <tr>\n",
       "      <th>1</th>\n",
       "      <td>Junior Consultant</td>\n",
       "      <td>2</td>\n",
       "      <td>50000</td>\n",
       "    </tr>\n",
       "    <tr>\n",
       "      <th>2</th>\n",
       "      <td>Senior Consultant</td>\n",
       "      <td>3</td>\n",
       "      <td>60000</td>\n",
       "    </tr>\n",
       "    <tr>\n",
       "      <th>3</th>\n",
       "      <td>Manager</td>\n",
       "      <td>4</td>\n",
       "      <td>80000</td>\n",
       "    </tr>\n",
       "    <tr>\n",
       "      <th>4</th>\n",
       "      <td>Country Manager</td>\n",
       "      <td>5</td>\n",
       "      <td>110000</td>\n",
       "    </tr>\n",
       "    <tr>\n",
       "      <th>5</th>\n",
       "      <td>Region Manager</td>\n",
       "      <td>6</td>\n",
       "      <td>150000</td>\n",
       "    </tr>\n",
       "    <tr>\n",
       "      <th>6</th>\n",
       "      <td>Partner</td>\n",
       "      <td>7</td>\n",
       "      <td>200000</td>\n",
       "    </tr>\n",
       "    <tr>\n",
       "      <th>7</th>\n",
       "      <td>Senior Partner</td>\n",
       "      <td>8</td>\n",
       "      <td>300000</td>\n",
       "    </tr>\n",
       "    <tr>\n",
       "      <th>8</th>\n",
       "      <td>C-level</td>\n",
       "      <td>9</td>\n",
       "      <td>500000</td>\n",
       "    </tr>\n",
       "    <tr>\n",
       "      <th>9</th>\n",
       "      <td>CEO</td>\n",
       "      <td>10</td>\n",
       "      <td>1000000</td>\n",
       "    </tr>\n",
       "  </tbody>\n",
       "</table>\n",
       "</div>"
      ],
      "text/plain": [
       "            Position  Level   Salary\n",
       "0   Business Analyst      1    45000\n",
       "1  Junior Consultant      2    50000\n",
       "2  Senior Consultant      3    60000\n",
       "3            Manager      4    80000\n",
       "4    Country Manager      5   110000\n",
       "5     Region Manager      6   150000\n",
       "6            Partner      7   200000\n",
       "7     Senior Partner      8   300000\n",
       "8            C-level      9   500000\n",
       "9                CEO     10  1000000"
      ]
     },
     "execution_count": 3,
     "metadata": {},
     "output_type": "execute_result"
    }
   ],
   "source": [
    "data"
   ]
  },
  {
   "cell_type": "markdown",
   "metadata": {},
   "source": [
    "Polynomial Regression is done by introducing higher degree terms in our regression problem to make it easier to fit a line through the data"
   ]
  },
  {
   "cell_type": "code",
   "execution_count": 4,
   "metadata": {},
   "outputs": [],
   "source": [
    "#In the given data Position and Level are the same, remove position\n",
    "new_data = data.drop('Position',axis=1)"
   ]
  },
  {
   "cell_type": "code",
   "execution_count": 5,
   "metadata": {},
   "outputs": [],
   "source": [
    "x,y = new_data.iloc[:,0],new_data.iloc[:,1]"
   ]
  },
  {
   "cell_type": "markdown",
   "metadata": {},
   "source": [
    "Here x only has one feature, therefore we will introduce higher degree terms in it <br>\n",
    "$x^2 , x^3 , etc$"
   ]
  },
  {
   "cell_type": "code",
   "execution_count": 6,
   "metadata": {},
   "outputs": [],
   "source": [
    "def polynomial_regression(x,y,degree,alpha=0.001,eps=10e-10,lam=0):\n",
    "    \"\"\"\n",
    "    This function will fit the given data x to y\n",
    "    \n",
    "    x: array containing the data\n",
    "    y: array containing regression values\n",
    "    degree: int value stating the highest degree polynomial to be introduced\n",
    "    alpha=0.001: Learning Rate\n",
    "    eps=10e-4: tolerance \n",
    "    lam=0: value of L2 regularisation parameter\n",
    "    \"\"\"\n",
    "    dummy1 = x\n",
    "    dummy_temp = x\n",
    "    \n",
    "    for d in range(degree-1):\n",
    "        dummy_temp = x*dummy_temp\n",
    "        dummy1 = np.append(dummy1,dummy_temp,axis=1)\n",
    "        \n",
    "    # new data with the higher degree terms\n",
    "    augmented_data = dummy1\n",
    "    \n",
    "    # normalise data\n",
    "    xmean = np.mean(augmented_data,axis=0)\n",
    "    xstd = np.std(augmented_data,axis=0)\n",
    "    augmented_data = (augmented_data-xmean)/xstd\n",
    "    \n",
    "    ymean = np.mean(y)\n",
    "    ystd = np.std(y)\n",
    "    y = (y-ymean)/ystd\n",
    "    \n",
    "    del dummy1,dummy_temp\n",
    "    \n",
    "    def objective_function(x,y,theta,theta_0):\n",
    "        MSE = np.sum(np.square(x@theta + theta_0 - y) + lam*0.5*np.square(np.linalg.norm(theta)))\n",
    "        return (MSE/x.shape[0]*2)\n",
    "    \n",
    "    def fdash_theta(x,y,theta,theta_0):\n",
    "        ans = (x@theta+theta_0-y ).T@x + lam*np.linalg.norm(theta)\n",
    "        return 2*ans.T/x.shape[0]\n",
    "    \n",
    "    def fdash_theta0(x,y,theta,theta_0):\n",
    "        ans = np.sum(x@theta+theta_0-y)\n",
    "        return 2*ans/x.shape[0]\n",
    "         \n",
    "    \n",
    "    # Gradient Descent\n",
    "    \n",
    "    theta_i = np.zeros(shape=(augmented_data.shape[1],1))\n",
    "    theta_0i = np.zeros(1)\n",
    "    \n",
    "    i = 0\n",
    "    \n",
    "    while True:\n",
    "        \n",
    "        mse_i = objective_function(augmented_data,y,theta_i,theta_0i)\n",
    "        \n",
    "        history_thet = 1\n",
    "        history_thet0 = 1\n",
    "        \n",
    "        theta_f = theta_i - alpha*fdash_theta(augmented_data,y,theta_i,theta_0i)\n",
    "        theta_0f = theta_0i - alpha*fdash_theta0(augmented_data,y,theta_i,theta_0i)\n",
    "        \n",
    "        mse_f = objective_function(augmented_data,y,theta_f,theta_0f)\n",
    "        \n",
    "        if i%50000==0:\n",
    "            print(\"MSE at step {} is {}\".format(i,mse_f))\n",
    "        i+=1\n",
    "        \n",
    "        if abs(mse_f-mse_i)<=eps:\n",
    "            print(\"MSE at step {} is {}\".format(i,mse_f))\n",
    "            break\n",
    "                \n",
    "        theta_i = theta_f\n",
    "        theta_0i = theta_0f\n",
    "        \n",
    "    return theta_f,theta_0f"
   ]
  },
  {
   "cell_type": "code",
   "execution_count": 7,
   "metadata": {},
   "outputs": [
    {
     "name": "stdout",
     "output_type": "stream",
     "text": [
      "MSE at step 0 is 1.9653482736103016\n",
      "MSE at step 18022 is 0.07094906767396748\n"
     ]
    }
   ],
   "source": [
    "# since they are series\n",
    "x = np.array(x).reshape(10,1)\n",
    "y = np.array(y).reshape(10,1)\n",
    "theta,theta_0 = polynomial_regression(x,y,5,lam=0.05,alpha=10e-4,eps=10e-10)"
   ]
  },
  {
   "cell_type": "code",
   "execution_count": 8,
   "metadata": {},
   "outputs": [],
   "source": [
    "def plotter(x,y,degree,theta):\n",
    "    dummy1 = x\n",
    "    dummy_temp = x\n",
    "\n",
    "    for d in range(degree-1):\n",
    "        dummy_temp = x*dummy_temp\n",
    "        dummy1 = np.append(dummy1,dummy_temp,axis=1)\n",
    "\n",
    "    # new data with the higher degree terms\n",
    "    augmented_data = dummy1\n",
    "\n",
    "    ymean = np.mean(y)\n",
    "    ystd = np.std(y)\n",
    "    xmean = np.mean(augmented_data,axis=0)\n",
    "    xstd = np.std(augmented_data,axis=0)\n",
    "    plt.plot(x,(((augmented_data-xmean)/xstd@theta)*ystd+ymean),label='degree '+str(degree))"
   ]
  },
  {
   "cell_type": "code",
   "execution_count": 9,
   "metadata": {},
   "outputs": [
    {
     "name": "stdout",
     "output_type": "stream",
     "text": [
      "MSE at step 0 is 1.9946532900808145\n",
      "MSE at step 6067 is 0.7276340598080916\n",
      "MSE at step 0 is 1.9880678279112227\n",
      "MSE at step 8099 is 0.41904660247819675\n",
      "MSE at step 0 is 1.980790708314253\n",
      "MSE at step 6213 is 0.24068068745884333\n"
     ]
    },
    {
     "data": {
      "text/plain": [
       "<matplotlib.legend.Legend at 0x18def4b0978>"
      ]
     },
     "execution_count": 9,
     "metadata": {},
     "output_type": "execute_result"
    },
    {
     "data": {
      "image/png": "[encoded data removed]",
      "text/plain": [
       "<Figure size 432x288 with 1 Axes>"
      ]
     },
     "metadata": {
      "needs_background": "light"
     },
     "output_type": "display_data"
    }
   ],
   "source": [
    "for d in range(1,4):\n",
    "    theta,theta_0 = polynomial_regression(x,y,d,lam=0.1,alpha=10e-4,eps=10e-10)\n",
    "    plotter(x,y,d,theta)\n",
    "plt.scatter(x,y,label='original',color='red')\n",
    "plt.legend()"
   ]
  },
  {
   "cell_type": "code",
   "execution_count": 10,
   "metadata": {},
   "outputs": [],
   "source": [
    "# Linear Regression Formula"
   ]
  },
  {
   "cell_type": "markdown",
   "metadata": {},
   "source": [
    "In case of Linear Regression- <br>\n",
    "$\\theta = (X^{T}X)^{-1}X^{T}Y$"
   ]
  },
  {
   "cell_type": "code",
   "execution_count": 11,
   "metadata": {},
   "outputs": [],
   "source": [
    "dummy1 = x\n",
    "dummy_temp = x\n",
    "degree = 5\n",
    "\n",
    "for d in range(degree-1):\n",
    "    dummy_temp = x*dummy_temp\n",
    "    dummy1 = np.append(dummy1,dummy_temp,axis=1)\n",
    "\n",
    "# new data with the higher degree terms\n",
    "augmented_data = dummy1\n",
    "\n",
    "ymean = np.mean(y)\n",
    "ystd = np.std(y)\n",
    "xmean = np.mean(augmented_data,axis=0)\n",
    "xstd = np.std(augmented_data,axis=0)\n",
    "\n",
    "adj_data = (augmented_data-xmean)/xstd\n",
    "adj_labels = (y-ymean)/ystd\n",
    "\n",
    "thet = np.linalg.inv(adj_data.T @ adj_data)@adj_data.T@adj_labels"
   ]
  },
  {
   "cell_type": "code",
   "execution_count": 12,
   "metadata": {},
   "outputs": [
    {
     "data": {
      "text/plain": [
       "array([[  1.62551679],\n",
       "       [-11.45825463],\n",
       "       [ 32.33775881],\n",
       "       [-39.04944978],\n",
       "       [ 17.59131773]])"
      ]
     },
     "execution_count": 12,
     "metadata": {},
     "output_type": "execute_result"
    }
   ],
   "source": [
    "thet"
   ]
  }
 ],
 "metadata": {
  "kernelspec": {
   "display_name": "Python 3",
   "language": "python",
   "name": "python3"
  },
  "language_info": {
   "codemirror_mode": {
    "name": "ipython",
    "version": 3
   },
   "file_extension": ".py",
   "mimetype": "text/x-python",
   "name": "python",
   "nbconvert_exporter": "python",
   "pygments_lexer": "ipython3",
   "version": "3.6.9"
  }
 },
 "nbformat": 4,
 "nbformat_minor": 2
}
